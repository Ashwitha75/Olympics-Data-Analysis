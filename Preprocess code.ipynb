{
 "cells": [
  {
   "cell_type": "code",
   "execution_count": null,
   "id": "1c2d2c57",
   "metadata": {},
   "outputs": [],
   "source": [
    "import pandas as pd\n",
    "\n",
    "def preprocess(df,region_df):\n",
    "    # filtering for summer olympics\n",
    "    df = df[df['Season'] == 'Summer']\n",
    "    # merge with region_df\n",
    "    df = df.merge(region_df, on='NOC', how='left')\n",
    "    # dropping duplicates\n",
    "    df.drop_duplicates(inplace=True)\n",
    "    # one hot encoding medals\n",
    "    df = pd.concat([df, pd.get_dummies(df['Medal'])], axis=1)\n",
    "    return df"
   ]
  }
 ],
 "metadata": {
  "kernelspec": {
   "display_name": "Python 3 (ipykernel)",
   "language": "python",
   "name": "python3"
  },
  "language_info": {
   "codemirror_mode": {
    "name": "ipython",
    "version": 3
   },
   "file_extension": ".py",
   "mimetype": "text/x-python",
   "name": "python",
   "nbconvert_exporter": "python",
   "pygments_lexer": "ipython3",
   "version": "3.8.17"
  }
 },
 "nbformat": 4,
 "nbformat_minor": 5
}
